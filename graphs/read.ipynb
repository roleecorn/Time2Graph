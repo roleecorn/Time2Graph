{
 "cells": [
  {
   "cell_type": "code",
   "execution_count": 4,
   "metadata": {},
   "outputs": [],
   "source": [
    "import pandas\n",
    "import matplotlib.pyplot as plt\n",
    "# df=pandas.read_csv('/home/sun/time2graph-sun/t2g_other.csv',index_col=False)"
   ]
  },
  {
   "cell_type": "code",
   "execution_count": 5,
   "metadata": {},
   "outputs": [
    {
     "name": "stdout",
     "output_type": "stream",
     "text": [
      "sleep 30 0.5068400000000001\n",
      "sleep 30 0.48132\n",
      "meal 30 0.087\n",
      "meal 30 0.09222\n",
      "out 70 0.36324000000000006\n",
      "out 50 0.358\n",
      "other 60 0.4538399999999999\n",
      "other 50 0.45764000000000005\n"
     ]
    }
   ],
   "source": [
    "behav=['sleep','meal','out','other']\n",
    "\n",
    "for item in behav:\n",
    "    df=pandas.read_csv(f'/home/sun/time2graph-sun/t2g_{item}.csv',index_col=False)\n",
    "    T2G=df.query(\"ker == 'T2G'\")\n",
    "    T2GN=df.query(\"ker == 'T2G+'\")\n",
    "    for Targ in [T2G,T2GN]:\n",
    "        s=0\n",
    "        flag=0\n",
    "        for i in range(3,9):\n",
    "            prec=sum(Targ.query(f\"C == {i*10}\").prec)/len(Targ.query(f\"C == {i*10}\").prec)\n",
    "            f1=sum(Targ.query(f\"C == {i*10}\").f1)/len(Targ.query(f\"C == {i*10}\").f1)\n",
    "            recall=sum(Targ.query(f\"C == {i*10}\").recall)/len(Targ.query(f\"C == {i*10}\").recall)\n",
    "            if f1>s:\n",
    "                s=f1\n",
    "                flag = i*10\n",
    "        print(item,flag,s)"
   ]
  },
  {
   "attachments": {},
   "cell_type": "markdown",
   "metadata": {},
   "source": [
    "sleep T2G 70 0.42501999999999995\n",
    "sleep T2G+ 30 0.42406"
   ]
  },
  {
   "cell_type": "code",
   "execution_count": 20,
   "metadata": {},
   "outputs": [
    {
     "name": "stdout",
     "output_type": "stream",
     "text": [
      "item,ker,accu,prec, recall, f1\n",
      "sleep,T2G_,0.5319,0.4185, 0.6433, 0.5068\n",
      "sleep,T2GN,0.5488,0.4241, 0.5631, 0.4813\n",
      "meal,T2G_,0.6667,0.0500, 0.3446, 0.0870\n",
      "meal,T2GN,0.7155,0.0550, 0.3157, 0.0922\n",
      "out,T2G_,0.5699,0.2890, 0.4333, 0.3463\n",
      "out,T2GN,0.5148,0.2752, 0.5143, 0.3580\n",
      "other,T2G_,0.5399,0.3822, 0.5221, 0.4393\n",
      "other,T2GN,0.4589,0.3526, 0.6617, 0.4576\n"
     ]
    }
   ],
   "source": [
    "print('item,ker,accu,prec, recall, f1')\n",
    "# T2GP=[30,30,70,60]\n",
    "T2GNP=[30,30,50,50]\n",
    "T2GP=[30,30,50,50]\n",
    "behav=['sleep','meal','out','other']\n",
    "\n",
    "for item,t2gp,t2gnp in zip(behav,T2GP,T2GNP):\n",
    "    df=pandas.read_csv(f'/home/sun/time2graph-sun/t2g_{item}.csv',index_col=False)\n",
    "    T2G=df.query(\"ker == 'T2G'\").query(f\"C=={t2gp}\")\n",
    "    T2G.__str__='T2G_'\n",
    "    T2GN=df.query(\"ker == 'T2G+'\").query(f\"C=={t2gnp}\")\n",
    "    T2GN.__str__='T2GN'\n",
    "    for Targ in [T2G,T2GN]:\n",
    "        prec = sum(Targ.prec)/len(Targ.prec)\n",
    "        f1 = sum(Targ.f1)/len(Targ.f1)\n",
    "        recall = sum(Targ.recall)/len(Targ.recall)\n",
    "        accu = sum(Targ.accu)/len(Targ.accu)\n",
    "        print(\"{},{},{:.4f},{:.4f}, {:.4f}, {:.4f}\".format(item,Targ.__str__,accu,prec, recall, f1))\n",
    "\n",
    "# item,ker,accu,prec,recall,f1,run_time,C,K,range"
   ]
  },
  {
   "cell_type": "code",
   "execution_count": null,
   "metadata": {},
   "outputs": [],
   "source": []
  }
 ],
 "metadata": {
  "kernelspec": {
   "display_name": "research-wy8XzGai",
   "language": "python",
   "name": "python3"
  },
  "language_info": {
   "codemirror_mode": {
    "name": "ipython",
    "version": 3
   },
   "file_extension": ".py",
   "mimetype": "text/x-python",
   "name": "python",
   "nbconvert_exporter": "python",
   "pygments_lexer": "ipython3",
   "version": "3.9.16"
  },
  "orig_nbformat": 4
 },
 "nbformat": 4,
 "nbformat_minor": 2
}
