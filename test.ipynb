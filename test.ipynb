{
 "cells": [
  {
   "cell_type": "code",
   "execution_count": 1,
   "metadata": {},
   "outputs": [],
   "source": [
    "import argparse\n",
    "import warnings\n",
    "import pandas as pd\n",
    "import os\n",
    "os.system(\"export PYTHONPATH=`readlink -f ./`\")\n",
    "from config import *\n",
    "from houses import TEST_HOUSE,TRAIN_HOUSE\n",
    "from archive.load_tepco import load_house_dataset_by_houses,load_house_dataset_by_houses_ex\n",
    "from time2graph.utils.base_utils import Debugger\n",
    "from time2graph.core.model_TEPCO import Time2Graph\n",
    "from sklearn.metrics import accuracy_score, precision_score, recall_score, f1_score\n",
    "from imblearn.under_sampling import RandomUnderSampler\n",
    "from time2graph.core.shapelet_embedding import ShapeletEmbedding\n",
    "from time2graph.core.shapelet_utils import transition_matrixs,__mat2edgelist,graph_embedding\n",
    "from time2graph.core.shapelet_utils import shapelet_distance,cross_graph_embedding\n",
    "from sklearn.preprocessing import minmax_scale\n",
    "from cross_matrix import cross_matrix,shape_norm,combine_mat\n",
    "testhouse = [str(i).zfill(3) for i in TEST_HOUSE]\n",
    "trainhouse = [str(i).zfill(3) for i in TRAIN_HOUSE]"
   ]
  },
  {
   "attachments": {},
   "cell_type": "markdown",
   "metadata": {},
   "source": [
    "## 參數集合"
   ]
  },
  {
   "cell_type": "code",
   "execution_count": 2,
   "metadata": {},
   "outputs": [],
   "source": [
    "behav='sleep'\n",
    "class args:\n",
    "    pass\n",
    "args.seg_length,args.num_segment =5,5\n",
    "args.cutpoints=[(0,3),(2,5)]\n",
    "args.behav=behav\n",
    "args.dataset = args.behav\n",
    "args.K,args.C=20,40\n",
    "args.opt_metric = 'accuracy'\n",
    "args.init,args.warp=0,2\n",
    "args.gpu_enable =True\n",
    "args.tflag=True\n",
    "args.embed,args.cmethod ='aggregate','greedy'\n",
    "args.percentile =10\n",
    "args.batch_size,args.embed_size =16,16\n",
    "args.njobs=5\n",
    "args.optimizer ,args.measurement='Adam','gdtw'\n",
    "args.alpha,args.beta=0.1,0.05\n",
    "args.scaled,args.norm=True,False\n",
    "args.no_global = True\n",
    "args.multi_graph,args.data_size =False,1\n",
    "args.kernel,args.feature = 'dts','all'\n",
    "args.n_splits = 5"
   ]
  },
  {
   "cell_type": "code",
   "execution_count": 3,
   "metadata": {},
   "outputs": [],
   "source": [
    "if args.kernel=='xgb':\n",
    "    opt_args= {\n",
    "                'max_depth': 16,\n",
    "                'learning_rate': 0.2,\n",
    "                'scale_pos_weight': 1,\n",
    "                'booster': 'gbtree'\n",
    "            }\n",
    "elif (args.kernel=='dts') or (args.kernel=='rf'):\n",
    "    opt_args={\n",
    "                'criterion': 'gini',\n",
    "                'max_features': 'auto',\n",
    "                'max_depth': 10,\n",
    "                'min_samples_split': 4,\n",
    "                'min_samples_leaf': 3,\n",
    "                'class_weight': 'balanced'\n",
    "            }\n",
    "else:\n",
    "    raise ValueError(\"please choose a classifier\")"
   ]
  },
  {
   "attachments": {},
   "cell_type": "markdown",
   "metadata": {},
   "source": [
    "## load data"
   ]
  },
  {
   "cell_type": "code",
   "execution_count": 4,
   "metadata": {},
   "outputs": [
    {
     "name": "stdout",
     "output_type": "stream",
     "text": [
      "[info]data shape 7296x25\n",
      "[info]training: 0.34 positive ratio with 7296\n",
      "[info]test: 0.37 positive ratio with 1824\n"
     ]
    }
   ],
   "source": [
    "x_train, y_train, x_test, y_test,z_train,z_test = load_house_dataset_by_houses_ex(\n",
    "        TEST_HOUSE=testhouse,TRAIN_HOUSE=trainhouse,assign_behavior=behav)\n",
    "Debugger.info_print('data shape {}x{}'.format(x_train.shape[0],x_train.shape[1]))\n",
    "Debugger.info_print('training: {:.2f} positive ratio with {}'.format(float(sum(y_train) / len(y_train)),\n",
    "                                                                        len(y_train)))\n",
    "Debugger.info_print('test: {:.2f} positive ratio with {}'.format(float(sum(y_test) / len(y_test)),\n",
    "                                                                    len(y_test)))"
   ]
  },
  {
   "cell_type": "code",
   "execution_count": 5,
   "metadata": {},
   "outputs": [
    {
     "name": "stdout",
     "output_type": "stream",
     "text": [
      "[info]Time2GraphEmbed\n",
      "[info]initialize t2g model with {'kernel': 'dts', 'kwargs': {'candidate_method': 'greedy', 'njobs': 5, 'optimizer': 'Adam', 'representation_size': 16, 'feature_mode': 'all', 'label_all': 'sleep', 'cutpoints': [(0, 3), (2, 5)]}, 'K': 20, 'C': 40, 'seg_length': 5, 'warp': 2, 'tflag': True, 'opt_metric': 'accuracy', 'mode': 'aggregate', 'batch_size': 16, 'gpu_enable': True, 'percentile': 10, 'shapelets': None, 'sembeds': None, 'clf': None, 'lr': 0.01, 'p': 2, 'alpha': 0.1, 'beta': 0.05, 'multi_graph': False, 'debug': True, 'measurement': 'gdtw', 'verbose': False, 'global_flag': True, 'cutpoints': [(0, 3), (2, 5)]}\n"
     ]
    }
   ],
   "source": [
    "m = Time2Graph(kernel=args.kernel, K=args.K, C=args.C, seg_length=args.seg_length,\n",
    "                opt_metric=args.opt_metric, init=args.init, gpu_enable=args.gpu_enable,\n",
    "                warp=args.warp, tflag=args.tflag, mode=args.embed,\n",
    "                percentile=args.percentile, candidate_method=args.cmethod,\n",
    "                batch_size=args.batch_size, njobs=args.njobs,\n",
    "                optimizer=args.optimizer, alpha=args.alpha,\n",
    "                beta=args.beta, measurement=args.measurement,\n",
    "                representation_size=args.embed_size, data_size=args.data_size,\n",
    "                scaled=args.scaled, norm=args.norm, global_flag=args.no_global,\n",
    "                multi_graph=args.multi_graph,\n",
    "                shapelets_cache='{}/scripts/cache/{}_{}_{}_{}_shapelets.cache'.format(\n",
    "                    module_path, \n",
    "                    args.dataset, \n",
    "                    args.cmethod, args.K, args.seg_length),\n",
    "                    feature_mode = args.feature,\n",
    "                    label_all = args.behav,\n",
    "                    cutpoints=args.cutpoints,\n",
    "                )"
   ]
  },
  {
   "attachments": {},
   "cell_type": "markdown",
   "metadata": {},
   "source": [
    "### 學習shapelet"
   ]
  },
  {
   "cell_type": "code",
   "execution_count": 6,
   "metadata": {},
   "outputs": [
    {
     "name": "stdout",
     "output_type": "stream",
     "text": [
      "[info]learn_shapelets\n"
     ]
    }
   ],
   "source": [
    "cache_dir = '{}/scripts/cache/{}/'.format(module_path, args.dataset)\n",
    "m.learn__shapelet(X=x_train, Y=y_train,Z=z_train, cache_dir=cache_dir)"
   ]
  },
  {
   "cell_type": "code",
   "execution_count": 7,
   "metadata": {},
   "outputs": [
    {
     "name": "stdout",
     "output_type": "stream",
     "text": [
      "[info]scaled embedding model...\n"
     ]
    }
   ],
   "source": [
    "assert m.t2g.sembeds is None\n",
    "for k in range(m.data_size):\n",
    "    m.data_scaler[k].fit(x_train[:, :, k])\n",
    "X_scaled = np.zeros(x_train.shape, dtype=np.float)\n",
    "for k in range(m.data_size):\n",
    "    X_scaled[:, :, k] = m.data_scaler[k].fit_transform(x_train[:, :, k])\n",
    "X_scaled = np.zeros(x_train.shape, dtype=np.float)\n",
    "if args.scaled:\n",
    "    Debugger.info_print('scaled embedding model...')\n",
    "    inputx=X_scaled\n",
    "else:\n",
    "    Debugger.info_print('unscaled embedding model...')\n",
    "    inputx=x_train"
   ]
  },
  {
   "attachments": {},
   "cell_type": "markdown",
   "metadata": {},
   "source": [
    "### m.t2g.sembeds 是ShapeletEmbedding"
   ]
  },
  {
   "cell_type": "code",
   "execution_count": 8,
   "metadata": {},
   "outputs": [
    {
     "name": "stdout",
     "output_type": "stream",
     "text": [
      "[info]initialize ShapeletEmbedding model with ops: {'seg_length': 5, 'tflag': True, 'multi_graph': False, 'cache_dir': '/home/sun/time2graph-sun/scripts/cache/sleep/', 'tanh': False, 'debug': True, 'percentile': 10, 'dist_threshold': -1, 'measurement': 'gdtw', 'mode': 'aggregate', 'global_flag': True, 'deepwalk_args': {'candidate_method': 'greedy', 'njobs': 5, 'optimizer': 'Adam', 'representation_size': 16, 'feature_mode': 'all', 'label_all': 'sleep', 'cutpoints': [(0, 3), (2, 5)]}, 'embed_size': 16, 'embeddings': [], 'cutpoints': [(0, 3), (2, 5)]}\n"
     ]
    }
   ],
   "source": [
    "assert m.t2g.shapelets is not None, 'shapelets has not been learnt yet'\n",
    "m.t2g.sembeds = ShapeletEmbedding(\n",
    "    seg_length=args.seg_length, tflag=args.tflag, multi_graph=args.multi_graph,\n",
    "    cache_dir=cache_dir, tanh=False, debug=m.t2g.debug,\n",
    "    percentile=args.percentile, measurement=args.measurement, mode=args.embed,\n",
    "    global_flag=args.no_global, \n",
    "    **m.t2g.kwargs)\n"
   ]
  },
  {
   "attachments": {},
   "cell_type": "markdown",
   "metadata": {},
   "source": [
    "### 計算前後段的transition_matrix\n",
    "\n",
    "這邊不太確定y_train == 1還是==0"
   ]
  },
  {
   "cell_type": "code",
   "execution_count": 9,
   "metadata": {},
   "outputs": [
    {
     "name": "stdout",
     "output_type": "stream",
     "text": [
      "[info]weight matrix between shapelet 0 15\n",
      "[info](2493, 15, 1)\n"
     ]
    },
    {
     "name": "stdout",
     "output_type": "stream",
     "text": [
      "[info]threshold(10) 0.22191153168678296, mean 0.8695386052131653\n",
      "[info]2493x3\n",
      "[info]12923 edges involved in shapelets graph\n",
      "[info]weight matrix between shapelet 10 25\n",
      "[info](2493, 15, 1)\n",
      "[info]threshold(10) 0.22166152894496932, mean 0.8698369264602661\n",
      "[info]2493x3\n",
      "[info]12898 edges involved in shapelets graph\n"
     ]
    }
   ],
   "source": [
    "transition_set=transition_matrixs(\n",
    "            time_series_set=x_train[np.argwhere(y_train == 1).reshape(-1), :, :], \n",
    "            shapelets=m.t2g.shapelets, seg_length=args.seg_length,\n",
    "            tflag=args.tflag, multi_graph=args.multi_graph, tanh=False, debug=True,\n",
    "            init=args.init, warp=args.warp, percentile=args.percentile, threshold=-1,\n",
    "            measurement=args.measurement, global_flag=args.no_global,\n",
    "            cutpoints=args.cutpoints\n",
    "            )"
   ]
  },
  {
   "attachments": {},
   "cell_type": "markdown",
   "metadata": {},
   "source": [
    "## 這裡要計算相鄰的兩個cutpoint間的關係"
   ]
  },
  {
   "cell_type": "code",
   "execution_count": 10,
   "metadata": {},
   "outputs": [
    {
     "name": "stdout",
     "output_type": "stream",
     "text": [
      "[info]threshold(10) 0.18452430814504625, mean 0.9766486883163452\n",
      "[info]4803x3\n",
      "[info]75309 edges involved in shapelets graph\n"
     ]
    }
   ],
   "source": [
    "cmat = cross_matrix(time_series_set=x_train[np.argwhere(y_train == 0).reshape(-1), :, :], \n",
    "            shapelets=m.t2g.shapelets, seg_length=args.seg_length,\n",
    "            tflag=args.tflag, multi_graph=args.multi_graph, tanh=False, debug=True,\n",
    "            init=args.init, warp=args.warp, percentile=args.percentile, threshold=-1,\n",
    "            measurement=args.measurement, global_flag=args.no_global,\n",
    "            cutpoints=args.cutpoints)"
   ]
  },
  {
   "cell_type": "code",
   "execution_count": 11,
   "metadata": {},
   "outputs": [],
   "source": [
    "tcmat=combine_mat(transition_set[0][0],transition_set[1][0],cmat)"
   ]
  },
  {
   "cell_type": "code",
   "execution_count": 12,
   "metadata": {},
   "outputs": [
    {
     "name": "stdout",
     "output_type": "stream",
     "text": [
      "[info]transition matrix size (1, 40, 40)\n",
      "[info]run deepwalk with: deepwalk --input /home/sun/time2graph-sun/scripts/cache/sleep//0.edgelist --format weighted_edgelist --output /home/sun/time2graph-sun/scripts/cache/sleep//0.embeddings --representation-size 16\n",
      "[[-1.67871737e+00 -1.90484858e+00 -1.34096396e+00 -1.18177629e+00\n",
      "   1.56899190e+00  1.25473762e+00  2.02791834e+00  2.00787798e-01\n",
      "   1.27225626e+00 -1.32337785e+00  4.56721306e-01  1.46410954e+00\n",
      "   1.11039646e-01  1.79812357e-01  8.81413996e-01 -2.14664054e+00]\n",
      " [ 5.39426208e-01  1.38078421e-01  1.17196763e+00  1.21170115e+00\n",
      "   4.27676111e-01 -1.40728140e+00 -3.17908108e-01 -2.50936985e-01\n",
      "   1.44299757e+00 -8.26397717e-01  1.36460960e+00 -8.89445961e-01\n",
      "   1.97840381e+00 -3.26963496e+00 -1.69494879e+00 -2.57926166e-01]\n",
      " [-6.53797761e-02 -6.27802432e-01 -2.33495951e-01  4.97731179e-01\n",
      "   1.23359787e+00  3.96115869e-01  1.54930496e+00  7.41755545e-01\n",
      "   1.62643838e+00 -1.24318969e+00  1.17070889e+00  7.00687647e-01\n",
      "   2.39238048e+00 -2.04581714e+00  2.84269392e-01 -1.63544869e+00]\n",
      " [-1.54476956e-01 -5.03418922e-01 -1.92989334e-01  3.46252143e-01\n",
      "   1.13425374e+00  3.15972716e-01  1.45380616e+00  7.48630822e-01\n",
      "   1.61339653e+00 -1.20434141e+00  1.18319261e+00  6.44581497e-01\n",
      "   2.29744029e+00 -1.98719716e+00  2.77974457e-01 -1.54023457e+00]\n",
      " [ 1.71727031e-01 -2.85617590e-01 -2.68558860e-01  1.72061473e-01\n",
      "  -1.93351418e-01  1.08801953e-01  3.72743964e-01 -2.31730547e-02\n",
      "   1.56781316e-01 -7.94856772e-02  1.38811827e-01  8.15079957e-02\n",
      "   5.48249543e-01 -2.91077793e-01 -3.38420779e-01 -3.31287205e-01]\n",
      " [ 4.85723019e-01 -5.58380902e-01 -6.09019876e-01  7.59214103e-01\n",
      "  -4.32364076e-01  1.61206916e-01  1.29298937e+00  2.16132730e-01\n",
      "   2.00764582e-01 -2.18468472e-01  2.31672287e-01  1.59811199e-01\n",
      "   1.61210012e+00 -6.94200099e-01 -5.46859086e-01 -9.51065004e-01]\n",
      " [ 5.60448170e-01 -5.82891107e-01 -6.26942456e-01  9.31594908e-01\n",
      "  -4.67149615e-01  7.91989490e-02  1.56995964e+00  3.35337222e-01\n",
      "   1.43153563e-01 -2.07759246e-01  1.30724996e-01  1.64360836e-01\n",
      "   1.87245023e+00 -7.95786083e-01 -5.20881951e-01 -1.04393888e+00]\n",
      " [ 1.46485746e-01 -3.13838303e-01 -2.64840305e-01  3.00040960e-01\n",
      "   1.62525028e-02  1.22488521e-01  6.44587219e-01  1.66464865e-01\n",
      "   3.71530861e-01 -2.51353860e-01  2.47636124e-01  1.39998898e-01\n",
      "   9.35692310e-01 -6.14738345e-01 -1.91618338e-01 -5.61533034e-01]\n",
      " [-4.60455924e-01 -5.11615038e-01  4.30130810e-02  3.01425308e-01\n",
      "   1.67485034e+00  3.81731659e-01  1.05917537e+00  9.45438385e-01\n",
      "   2.07104754e+00 -1.33756042e+00  1.14944768e+00  6.89231336e-01\n",
      "   1.91331124e+00 -1.96898663e+00  8.56805980e-01 -1.30971146e+00]\n",
      " [-5.51377535e-01 -2.94946969e-01  3.01895261e-01  2.49283299e-01\n",
      "   1.49316943e+00  5.66788673e-01  1.26328504e+00  6.53713167e-01\n",
      "   1.55675304e+00 -1.36390650e+00  1.34689248e+00  6.80886984e-01\n",
      "   2.15227747e+00 -1.77965593e+00  6.59152567e-01 -1.18517840e+00]\n",
      " [ 5.87269545e-01 -1.17546022e+00 -1.37561858e+00  1.39101759e-01\n",
      "  -4.01780576e-01  9.23980772e-01  7.22644150e-01 -5.11755288e-01\n",
      "   1.10141158e+00 -2.98447281e-01  1.05860698e+00  3.48662406e-01\n",
      "   1.13466454e+00 -1.21236384e+00 -1.80567980e+00 -1.13078797e+00]\n",
      " [ 4.37716663e-01 -4.56287444e-01 -4.79112685e-01  6.94580972e-01\n",
      "  -2.70211965e-01  5.67317791e-02  1.24864817e+00  3.09420437e-01\n",
      "   2.47827455e-01 -2.93799490e-01  2.16162682e-01  1.71342790e-01\n",
      "   1.59482646e+00 -7.26210713e-01 -3.81396234e-01 -9.39261377e-01]\n",
      " [-1.37990296e+00  2.87467152e-01  9.95663464e-01 -4.74010050e-01\n",
      "   9.93448436e-01  3.76424909e-01  7.20019460e-01 -1.17032409e+00\n",
      "   4.76361811e-01 -1.84156108e+00  2.49461150e+00 -5.45810223e-01\n",
      "   1.24930835e+00 -7.48541892e-01  1.56505978e+00 -2.88825941e+00]\n",
      " [ 1.48174644e+00  4.96636748e-01 -5.20622671e-01  2.19636583e+00\n",
      "   2.93482447e+00  7.74804294e-01  3.35226148e-01  6.28674388e-01\n",
      "   1.42046976e+00  5.21028280e-01 -7.60447562e-01  1.02379978e+00\n",
      "   1.42135549e+00 -3.13044548e+00  9.23250496e-01 -1.05618328e-01]\n",
      " [-1.38977718e+00 -5.13651550e-01  1.82424629e+00  2.66598493e-01\n",
      "  -7.12895533e-03 -1.61188853e+00 -3.29152614e-01  5.50195575e-01\n",
      "   1.82010722e+00 -3.69982392e-01  1.72074997e+00  1.50619936e+00\n",
      "   1.94607604e+00 -9.48741198e-01  1.60877073e+00 -1.44388378e+00]\n",
      " [ 5.49821317e-01 -7.37424493e-01 -8.44748557e-01  1.28853440e+00\n",
      "  -7.29688883e-01  1.88290998e-02  2.10250807e+00  5.15080988e-01\n",
      "  -1.17299589e-03 -2.59738177e-01 -3.42931459e-03  2.21041352e-01\n",
      "   2.54015136e+00 -8.43375385e-01 -4.95888978e-01 -1.26526105e+00]\n",
      " [ 2.43460655e-01 -4.64089811e-01 -4.61166322e-01  3.63782793e-01\n",
      "  -1.43487573e-01  2.13054344e-01  8.20172727e-01  1.12040251e-01\n",
      "   3.78271461e-01 -2.53103852e-01  2.88703918e-01  1.96690679e-01\n",
      "   1.08041179e+00 -6.80426717e-01 -4.63095337e-01 -7.14786470e-01]\n",
      " [-1.01728594e+00 -6.67975247e-01  6.82208121e-01 -1.52948797e+00\n",
      "   1.02785623e+00 -5.50044000e-01  1.64784861e+00  2.42877746e+00\n",
      "   4.49416220e-01 -1.58336198e+00  8.43913078e-01  1.85699999e+00\n",
      "   2.40001798e+00 -4.46924835e-01  8.28483164e-01  8.49572599e-01]\n",
      " [ 9.19281185e-01  1.78775001e+00 -1.19713657e-01 -1.49275556e-01\n",
      "   2.55241179e+00 -8.27963948e-02  1.79732442e+00  1.17418218e+00\n",
      "   1.55273248e-02 -3.17743719e-01  7.12760091e-01 -9.14824307e-01\n",
      "   8.31450641e-01 -1.50812936e+00 -1.03240144e+00 -2.62869501e+00]\n",
      " [-1.66783631e-01 -5.08937478e-01  1.10311484e+00 -3.67820650e-01\n",
      "   1.06406748e+00  6.96221650e-01 -4.05087113e-01  6.87132120e-01\n",
      "   2.09574056e+00 -2.29882526e+00  7.68953562e-02  1.78005612e+00\n",
      "  -5.41383624e-01 -2.67145157e+00  1.39962721e+00 -1.00763822e+00]\n",
      " [-2.64254212e+00 -1.35003042e+00 -5.90147555e-01 -1.12014003e-01\n",
      "   5.12017682e-02  7.48392940e-01  2.91895539e-01  7.81443179e-01\n",
      "   1.83719635e+00 -2.09000850e+00  2.75835347e+00 -6.49912119e-01\n",
      "   2.20993519e+00 -2.08796531e-01  1.01785146e-01  7.65238255e-02]\n",
      " [-1.23152936e+00  9.52253938e-01 -6.20798528e-01 -2.22465008e-01\n",
      "   1.06870186e+00  3.08452630e+00  1.34076297e+00  3.04723024e-01\n",
      "   3.07841659e+00 -8.74156594e-01  2.31588528e-01  3.20184946e-01\n",
      "   1.06218159e+00 -1.31615412e+00  1.67502705e-02  1.86867759e-01]\n",
      " [ 5.57004929e-01 -8.08999181e-01  1.41498029e+00 -4.31674093e-01\n",
      "   1.17391086e+00 -3.39810759e-01  2.70497966e+00  2.39638612e-01\n",
      "   4.85163957e-01 -6.21178329e-01 -6.60297394e-01  1.63123131e+00\n",
      "   8.03201437e-01 -3.39124513e+00  8.75552893e-01  3.53138179e-01]\n",
      " [ 8.78596485e-01  2.29554221e-01  5.62751770e-01  2.80654550e-01\n",
      "   2.22870445e+00 -8.61657202e-01 -6.36406004e-01 -1.28433228e+00\n",
      "   2.33291578e+00 -1.12857711e+00  1.11689731e-01  1.18076336e+00\n",
      "   6.69333816e-01 -1.64146757e+00 -6.63767099e-01 -2.71590686e+00]\n",
      " [ 4.86557074e-02 -2.11253092e-01 -2.33178765e-01  1.39359966e-01\n",
      "   1.30852222e-01  1.60888836e-01  3.72618258e-01  6.53717145e-02\n",
      "   4.00485247e-01 -2.39931762e-01  2.64170438e-01  1.71338126e-01\n",
      "   5.68331718e-01 -4.72235650e-01 -1.84929803e-01 -4.29824919e-01]\n",
      " [ 5.13600111e-01 -5.62035143e-01 -6.30837679e-01  8.79249692e-01\n",
      "  -4.04823869e-01  1.07312240e-01  1.42838073e+00  3.48187000e-01\n",
      "   2.08127335e-01 -2.57098436e-01  2.00853363e-01  1.45834684e-01\n",
      "   1.82546723e+00 -7.73767948e-01 -5.22276044e-01 -1.05915463e+00]\n",
      " [ 4.91769850e-01 -6.08005643e-01 -6.50950015e-01  7.41757274e-01\n",
      "  -3.90731603e-01  1.77249163e-01  1.33673704e+00  2.61508465e-01\n",
      "   3.04329365e-01 -2.07891285e-01  2.62271315e-01  1.63732573e-01\n",
      "   1.65526497e+00 -8.20697725e-01 -6.32851720e-01 -1.03586388e+00]\n",
      " [ 1.90508366e-01 -2.66469836e-01 -2.59860337e-01  4.12525326e-01\n",
      "   2.08741371e-02  8.67315754e-02  8.37711334e-01  2.22853333e-01\n",
      "   2.88306564e-01 -2.64944077e-01  2.12197468e-01  1.73357531e-01\n",
      "   1.06667340e+00 -6.35081112e-01 -1.20938867e-01 -6.13939226e-01]\n",
      " [ 7.72355914e-01 -2.93985426e-01  1.57372713e+00  1.28703308e+00\n",
      "  -7.95321047e-01 -4.83348101e-01  1.76880813e+00  1.72898102e+00\n",
      "   5.06620347e-01 -2.72111726e+00  1.82095408e+00 -2.26212770e-01\n",
      "   1.72676361e+00 -6.29455864e-01  1.11592901e+00 -8.42826724e-01]\n",
      " [-2.63924986e-01 -1.44621223e-01  1.73228327e-02 -1.09714305e+00\n",
      "   3.34531975e+00  8.26417863e-01  1.01220405e+00  2.07994208e-01\n",
      "   2.07854795e+00  7.94008970e-01  7.27898836e-01 -8.39929104e-01\n",
      "   1.23043478e+00 -1.03046322e+00  1.60405958e+00 -6.53669298e-01]\n",
      " [ 5.44854164e-01 -1.10069406e+00 -1.35803175e+00  5.53191341e-02\n",
      "  -3.25285733e-01  9.70293343e-01  7.04475999e-01 -5.14634430e-01\n",
      "   1.13131309e+00 -3.24317396e-01  1.06215024e+00  3.67615730e-01\n",
      "   1.12300515e+00 -1.28321350e+00 -1.85568941e+00 -1.16239953e+00]\n",
      " [ 4.04815048e-01 -4.95181054e-01 -5.68571627e-01  6.43417001e-01\n",
      "  -2.88396090e-01  1.84298456e-01  1.05826032e+00  2.23688319e-01\n",
      "   3.49885166e-01 -2.75784940e-01  3.27292472e-01  1.75248519e-01\n",
      "   1.46451080e+00 -7.70249665e-01 -5.18381357e-01 -8.79777908e-01]\n",
      " [ 1.52239215e+00 -3.71137977e-01 -1.87965906e+00 -5.87392151e-01\n",
      "   2.46870065e+00 -7.48068988e-01 -5.21038286e-02  1.28934264e+00\n",
      "   1.69350612e+00 -2.13662028e+00  1.39845562e+00  6.78877592e-01\n",
      "   1.81703615e+00  3.76283288e-01 -3.39356244e-01 -4.72697496e-01]\n",
      " [ 2.53786325e-01 -1.32170892e+00 -1.33670008e+00  1.46490955e+00\n",
      "   1.29896307e+00  1.12337363e+00  8.76130044e-01  2.40548682e+00\n",
      "  -3.59101921e-01 -1.42589760e+00  1.45567906e+00  1.59189320e+00\n",
      "  -7.41925761e-02 -2.13725543e+00  1.40540326e+00 -3.54834199e-01]\n",
      " [-1.13057590e+00  6.48668051e-01  4.72207218e-01 -1.10170579e+00\n",
      "   1.68003619e-01  1.46719897e+00  1.74047732e+00  1.21177042e+00\n",
      "   6.20380461e-01  1.32269824e+00  1.64540255e+00  7.26606488e-01\n",
      "   8.72635305e-01 -3.39538312e+00  7.15094984e-01 -1.02166939e+00]\n",
      " [ 5.75011551e-01 -7.14378715e-01 -8.50947320e-01  1.33752859e+00\n",
      "  -7.19255924e-01 -2.40286328e-02  2.08355641e+00  5.94086349e-01\n",
      "  -4.00008783e-02 -3.24552417e-01 -5.69431577e-03  2.29336694e-01\n",
      "   2.64463782e+00 -9.37317431e-01 -4.26762998e-01 -1.33107162e+00]\n",
      " [ 2.38451332e-01 -3.51133436e-01 -3.51252556e-01  5.45076728e-01\n",
      "  -1.13676883e-01  1.22399747e-01  9.74338114e-01  2.47093037e-01\n",
      "   2.70551920e-01 -2.87539005e-01  2.71422595e-01  1.82486594e-01\n",
      "   1.27362609e+00 -7.17556179e-01 -2.91692406e-01 -7.01711953e-01]\n",
      " [-1.59035432e+00  1.23351865e-01  2.40400787e-02  1.06865835e+00\n",
      "   2.15522480e+00 -2.61346605e-02 -7.79775083e-01 -5.66726565e-01\n",
      "   2.13762736e+00 -1.34144008e+00  3.76781940e-01 -1.04666185e+00\n",
      "   3.08797145e+00  2.75836736e-01 -4.85239267e-01 -1.66428542e+00]\n",
      " [-3.87027889e-01  2.83114851e-01  3.84663254e-01 -3.30875456e-01\n",
      "   1.40229166e+00 -5.51643908e-01  2.50703168e+00 -1.52645195e+00\n",
      "   3.06268334e+00  7.49106407e-01 -7.11096227e-01  1.31355807e-01\n",
      "   1.92790306e+00 -1.73922563e+00 -5.74372336e-02 -2.82628089e-01]\n",
      " [-4.92571414e-01 -1.72318304e+00 -1.52747750e+00  6.33796453e-01\n",
      "   1.68614137e+00 -1.29453018e-01 -2.21628308e+00  1.53193772e+00\n",
      "   7.50000179e-01 -1.65994108e+00  1.18447351e+00  1.09986007e+00\n",
      "   1.37884152e+00 -1.59482479e+00  4.16293919e-01 -1.53334272e+00]]\n"
     ]
    },
    {
     "ename": "ValueError",
     "evalue": "cannot reshape array of size 640 into shape (1,20,16)",
     "output_type": "error",
     "traceback": [
      "\u001b[0;31m---------------------------------------------------------------------------\u001b[0m",
      "\u001b[0;31mValueError\u001b[0m                                Traceback (most recent call last)",
      "\u001b[0;32m<ipython-input-12-564a90e7a798>\u001b[0m in \u001b[0;36m<module>\u001b[0;34m()\u001b[0m\n\u001b[1;32m      1\u001b[0m emb1,emb2 =cross_graph_embedding(\n\u001b[1;32m      2\u001b[0m         \u001b[0mtmat\u001b[0m\u001b[0;34m=\u001b[0m\u001b[0mshape_norm\u001b[0m\u001b[0;34m(\u001b[0m\u001b[0mtcmat\u001b[0m\u001b[0;34m,\u001b[0m\u001b[0margs\u001b[0m\u001b[0;34m.\u001b[0m\u001b[0mK\u001b[0m\u001b[0;34m*\u001b[0m\u001b[0;36m2\u001b[0m\u001b[0;34m)\u001b[0m\u001b[0;34m,\u001b[0m \u001b[0mnum_shapelet\u001b[0m\u001b[0;34m=\u001b[0m\u001b[0mlen\u001b[0m\u001b[0;34m(\u001b[0m\u001b[0mm\u001b[0m\u001b[0;34m.\u001b[0m\u001b[0mt2g\u001b[0m\u001b[0;34m.\u001b[0m\u001b[0mshapelets\u001b[0m\u001b[0;34m)\u001b[0m\u001b[0;34m*\u001b[0m\u001b[0;36m2\u001b[0m\u001b[0;34m,\u001b[0m \u001b[0membed_size\u001b[0m\u001b[0;34m=\u001b[0m\u001b[0margs\u001b[0m\u001b[0;34m.\u001b[0m\u001b[0membed_size\u001b[0m\u001b[0;34m,\u001b[0m\u001b[0;34m\u001b[0m\u001b[0;34m\u001b[0m\u001b[0m\n\u001b[0;32m----> 3\u001b[0;31m         cache_dir=cache_dir, **m.t2g.sembeds.deepwalk_args)\n\u001b[0m\u001b[1;32m      4\u001b[0m \u001b[0mm\u001b[0m\u001b[0;34m.\u001b[0m\u001b[0mt2g\u001b[0m\u001b[0;34m.\u001b[0m\u001b[0msembeds\u001b[0m\u001b[0;34m.\u001b[0m\u001b[0membeddings\u001b[0m\u001b[0;34m.\u001b[0m\u001b[0mappend\u001b[0m\u001b[0;34m(\u001b[0m\u001b[0memb1\u001b[0m\u001b[0;34m)\u001b[0m\u001b[0;34m\u001b[0m\u001b[0;34m\u001b[0m\u001b[0m\n\u001b[1;32m      5\u001b[0m \u001b[0mm\u001b[0m\u001b[0;34m.\u001b[0m\u001b[0mt2g\u001b[0m\u001b[0;34m.\u001b[0m\u001b[0msembeds\u001b[0m\u001b[0;34m.\u001b[0m\u001b[0membeddings\u001b[0m\u001b[0;34m.\u001b[0m\u001b[0mappend\u001b[0m\u001b[0;34m(\u001b[0m\u001b[0memb2\u001b[0m\u001b[0;34m)\u001b[0m\u001b[0;34m\u001b[0m\u001b[0;34m\u001b[0m\u001b[0m\n",
      "\u001b[0;32m/home/sun/time2graph-sun/time2graph/core/shapelet_utils.py\u001b[0m in \u001b[0;36mcross_graph_embedding\u001b[0;34m(tmat, num_shapelet, embed_size, cache_dir, **deepwalk_paras)\u001b[0m\n\u001b[1;32m    454\u001b[0m     \u001b[0mret2\u001b[0m\u001b[0;34m=\u001b[0m\u001b[0mret\u001b[0m\u001b[0;34m[\u001b[0m\u001b[0mnum_shapelet\u001b[0m\u001b[0;34m//\u001b[0m\u001b[0;36m2\u001b[0m\u001b[0;34m:\u001b[0m\u001b[0;34m]\u001b[0m\u001b[0;34m\u001b[0m\u001b[0;34m\u001b[0m\u001b[0m\n\u001b[1;32m    455\u001b[0m     \u001b[0;31m# return np.array(ret, dtype=np.float32).reshape(tmat.shape[0], num_shapelet, embed_size)\u001b[0m\u001b[0;34m\u001b[0m\u001b[0;34m\u001b[0m\u001b[0;34m\u001b[0m\u001b[0m\n\u001b[0;32m--> 456\u001b[0;31m     \u001b[0;32mreturn\u001b[0m \u001b[0mnp\u001b[0m\u001b[0;34m.\u001b[0m\u001b[0marray\u001b[0m\u001b[0;34m(\u001b[0m\u001b[0mret1\u001b[0m\u001b[0;34m,\u001b[0m \u001b[0mdtype\u001b[0m\u001b[0;34m=\u001b[0m\u001b[0mnp\u001b[0m\u001b[0;34m.\u001b[0m\u001b[0mfloat32\u001b[0m\u001b[0;34m)\u001b[0m\u001b[0;34m.\u001b[0m\u001b[0mreshape\u001b[0m\u001b[0;34m(\u001b[0m\u001b[0mtmat\u001b[0m\u001b[0;34m.\u001b[0m\u001b[0mshape\u001b[0m\u001b[0;34m[\u001b[0m\u001b[0;36m0\u001b[0m\u001b[0;34m]\u001b[0m\u001b[0;34m,\u001b[0m \u001b[0mnum_shapelet\u001b[0m\u001b[0;34m//\u001b[0m\u001b[0;36m2\u001b[0m\u001b[0;34m,\u001b[0m \u001b[0membed_size\u001b[0m\u001b[0;34m)\u001b[0m\u001b[0;34m,\u001b[0m\u001b[0mnp\u001b[0m\u001b[0;34m.\u001b[0m\u001b[0marray\u001b[0m\u001b[0;34m(\u001b[0m\u001b[0mret2\u001b[0m\u001b[0;34m,\u001b[0m \u001b[0mdtype\u001b[0m\u001b[0;34m=\u001b[0m\u001b[0mnp\u001b[0m\u001b[0;34m.\u001b[0m\u001b[0mfloat32\u001b[0m\u001b[0;34m)\u001b[0m\u001b[0;34m.\u001b[0m\u001b[0mreshape\u001b[0m\u001b[0;34m(\u001b[0m\u001b[0mtmat\u001b[0m\u001b[0;34m.\u001b[0m\u001b[0mshape\u001b[0m\u001b[0;34m[\u001b[0m\u001b[0;36m0\u001b[0m\u001b[0;34m]\u001b[0m\u001b[0;34m,\u001b[0m \u001b[0mnum_shapelet\u001b[0m\u001b[0;34m//\u001b[0m\u001b[0;36m2\u001b[0m\u001b[0;34m,\u001b[0m \u001b[0membed_size\u001b[0m\u001b[0;34m)\u001b[0m\u001b[0;34m\u001b[0m\u001b[0;34m\u001b[0m\u001b[0m\n\u001b[0m",
      "\u001b[0;31mValueError\u001b[0m: cannot reshape array of size 640 into shape (1,20,16)"
     ]
    }
   ],
   "source": [
    "from time2graph.core.shapelet_utils import shapelet_distance,cross_graph_embedding\n",
    "emb1,emb2 =cross_graph_embedding(\n",
    "        tmat=shape_norm(tcmat,args.K*2), num_shapelet=len(m.t2g.shapelets)*2, embed_size=args.embed_size,\n",
    "        cache_dir=cache_dir, **m.t2g.sembeds.deepwalk_args)\n",
    "m.t2g.sembeds.embeddings.append(emb1)\n",
    "m.t2g.sembeds.embeddings.append(emb2)"
   ]
  },
  {
   "attachments": {},
   "cell_type": "markdown",
   "metadata": {},
   "source": [
    "## 做embedding，之後要修正"
   ]
  },
  {
   "cell_type": "code",
   "execution_count": null,
   "metadata": {},
   "outputs": [
    {
     "name": "stdout",
     "output_type": "stream",
     "text": [
      "[info]transition matrix size (1, 20, 20)\n",
      "[info]run deepwalk with: deepwalk --input /home/sun/time2graph-sun/scripts/cache/sleep//0.edgelist --format weighted_edgelist --output /home/sun/time2graph-sun/scripts/cache/sleep//0.embeddings --representation-size 16\n",
      "[info]transition matrix size (1, 20, 20)\n",
      "[info]run deepwalk with: deepwalk --input /home/sun/time2graph-sun/scripts/cache/sleep//0.edgelist --format weighted_edgelist --output /home/sun/time2graph-sun/scripts/cache/sleep//0.embeddings --representation-size 16\n"
     ]
    }
   ],
   "source": [
    "# for idx,transition in enumerate(transition_set):\n",
    "#     tmat, sdist, dist_threshold = transition\n",
    "#     tmat = shape_norm(tmat=tmat,num_shapelet=args.K)\n",
    "#     m.t2g.sembeds.dist_threshold = dist_threshold\n",
    "#     m.t2g.sembeds.embeddings.append(\n",
    "#         graph_embedding(\n",
    "#         tmat=tmat, num_shapelet=len(m.t2g.shapelets), embed_size=args.embed_size,\n",
    "#         cache_dir=cache_dir, **m.t2g.sembeds.deepwalk_args)\n",
    "#     )"
   ]
  },
  {
   "cell_type": "code",
   "execution_count": null,
   "metadata": {},
   "outputs": [
    {
     "name": "stdout",
     "output_type": "stream",
     "text": [
      "[info]embedding threshold 0.22166152894496932\n",
      "[info]sdist size (7296, 3, 20)\n",
      "[info]sdist size (7296, 3, 20)\n",
      "[info]using setup parameters executed by 100.00%\n",
      "[info]classifier fit\n"
     ]
    }
   ],
   "source": [
    "x = m.extract_features(X=x_train,Z=z_train, init=args.init,mode=args.feature)\n",
    "max_accu, max_prec, max_recall, max_f1, max_metric = -1, -1, -1, -1, -1\n",
    "metric_measure = m.return_metric_method(opt_metric=m.t2g.opt_metric)\n",
    "m.train_classfit(x=x,Y=y_train,Z=z_train,n_splits=5,opt_args=opt_args)"
   ]
  },
  {
   "cell_type": "code",
   "execution_count": null,
   "metadata": {},
   "outputs": [
    {
     "name": "stdout",
     "output_type": "stream",
     "text": [
      "[info]embedding threshold 0.22166152894496932\n",
      "[info]sdist size (1824, 3, 20)\n",
      "[info]sdist size (1824, 3, 20)\n",
      "[debug]time series embedding executed by 100.00%\r"
     ]
    }
   ],
   "source": [
    "y_pred = m.predict(X=x_test,Z=z_test)[0]"
   ]
  },
  {
   "cell_type": "code",
   "execution_count": null,
   "metadata": {},
   "outputs": [
    {
     "name": "stdout",
     "output_type": "stream",
     "text": [
      "訊息已成功發送到Discord Webhook！\n"
     ]
    }
   ],
   "source": [
    "Debugger.dc_print('{}\\n{:.2f} positive ratio\\nresult: accu {:.4f}, prec {:.4f}, recall {:.4f}, f1 {:.4f}'.format(\n",
    "        args.cutpoints,float(sum(y_test) / len(y_test)),                                                                           \n",
    "            accuracy_score(y_true=y_test, y_pred=y_pred),\n",
    "            precision_score(y_true=y_test, y_pred=y_pred),\n",
    "            recall_score(y_true=y_test, y_pred=y_pred),\n",
    "            f1_score(y_true=y_test, y_pred=y_pred)\n",
    "        ))"
   ]
  }
 ],
 "metadata": {
  "kernelspec": {
   "display_name": "T2G",
   "language": "python",
   "name": "python3"
  },
  "language_info": {
   "codemirror_mode": {
    "name": "ipython",
    "version": 3
   },
   "file_extension": ".py",
   "mimetype": "text/x-python",
   "name": "python",
   "nbconvert_exporter": "python",
   "pygments_lexer": "ipython3",
   "version": "3.6.15"
  },
  "orig_nbformat": 4
 },
 "nbformat": 4,
 "nbformat_minor": 2
}
